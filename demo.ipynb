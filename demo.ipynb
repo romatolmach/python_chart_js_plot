{
 "nbformat": 4,
 "nbformat_minor": 2,
 "metadata": {
  "language_info": {
   "name": "python",
   "codemirror_mode": {
    "name": "ipython",
    "version": 3
   },
   "version": "3.6.8"
  },
  "orig_nbformat": 2,
  "file_extension": ".py",
  "mimetype": "text/x-python",
  "name": "python",
  "npconvert_exporter": "python",
  "pygments_lexer": "ipython3",
  "version": 3
 },
 "cells": [
  {
   "cell_type": "code",
   "execution_count": 10,
   "metadata": {},
   "outputs": [],
   "source": [
    "from chart_js import cjs_plot\n",
    "import pandas as pd"
   ]
  },
  {
   "cell_type": "code",
   "execution_count": 8,
   "metadata": {},
   "outputs": [
    {
     "data": {
      "text/html": "\n        <iframe height='300px'  width='600px'  frameborder=\"0\" scrolling=\"no\" srcdoc=\"\n        <link href='Chart.min.css' rel='stylesheet'>\n        <script src='https://cdnjs.cloudflare.com/ajax/libs/jquery/3.4.0/jquery.min.js'></script>\n        <script src='https://cdnjs.cloudflare.com/ajax/libs/twitter-bootstrap/4.3.1/js/bootstrap.min.js'></script>\n        <script src='https://cdnjs.cloudflare.com/ajax/libs/Chart.js/2.8.0/Chart.min.js'></script>\n        <div style='height:100%%;width100%%;'>\n            <canvas id='chart_js' style='background-color:white;'></canvas>\n        </div>\n        <script>\n            $(document).ready(function () {\n                const chart_js_chart_config = {\n                data: {datasets: [{label: 'x1', data: [1, 2, 3, 4, 11, 2, 12], backgroundColor: '#B0C4DE', borderColor: '#B0C4DE', pointBackgroundColor: ['#B0C4DE', '#B0C4DE', '#B0C4DE', '#B0C4DE', '#B0C4DE', '#B0C4DE', '#B0C4DE'], fill: false}, {label: 'x2', data: [5, 6, 10, 8, 3, 12], backgroundColor: '#5F9EA0', borderColor: '#5F9EA0', pointBackgroundColor: ['#5F9EA0', '#5F9EA0', '#5F9EA0', '#5F9EA0', '#5F9EA0', '#5F9EA0'], fill: false}], labels: [1, 2, 3, 4, 5, 6]}, type: 'line'\n                    ,options: {legend: {display: true, position: 'bottom'}, scales: {xAxes: [{display: true, scaleLabel: {labelString: 'x-value', display: true}}], yAxes: [{display: true, scaleLabel: {labelString: 'y-value', display: true}}]}, title: {display: true, text: 'Line plot'}}};\n                const chart_js_context = document.getElementById('chart_js').getContext('2d');\n                const chart_js_chart = new Chart(chart_js_context, chart_js_chart_config);\n                chart_js_chart.update();\n            });\n        </script>\"></iframe>\n        ",
      "text/plain": "<IPython.core.display.HTML object>"
     },
     "metadata": {},
     "output_type": "display_data"
    }
   ],
   "source": [
    "cjs_line = cjs_plot()\n",
    "cjs_line.add_dataset('line', 'x1', [1, 2, 3, 4, 11, 2, 12], [1, 2, 3, 4])\n",
    "cjs_line.add_dataset('line', 'x2', [5, 6, 10, 8, 3, 12], [1, 2, 3, 4, 5, 6])\n",
    "cjs_line.add_options('Line plot', 'x-value', 'y-value',display_legend=True, size=(3, 6))\n",
    "cjs_line.render(['x1', 'x2'],'Line plot')"
   ]
  },
  {
   "cell_type": "code",
   "execution_count": 9,
   "metadata": {},
   "outputs": [
    {
     "data": {
      "text/html": "\n        <iframe height='300px'  width='600px'  frameborder=\"0\" scrolling=\"no\" srcdoc=\"\n        <link href='Chart.min.css' rel='stylesheet'>\n        <script src='https://cdnjs.cloudflare.com/ajax/libs/jquery/3.4.0/jquery.min.js'></script>\n        <script src='https://cdnjs.cloudflare.com/ajax/libs/twitter-bootstrap/4.3.1/js/bootstrap.min.js'></script>\n        <script src='https://cdnjs.cloudflare.com/ajax/libs/Chart.js/2.8.0/Chart.min.js'></script>\n        <div style='height:100%%;width100%%;'>\n            <canvas id='chart_js' style='background-color:white;'></canvas>\n        </div>\n        <script>\n            $(document).ready(function () {\n                const chart_js_chart_config = {\n                data: {datasets: [{label: 'x1', data: [1, 2, 3, 4, 11, 2, 12], backgroundColor: '#20B2AA', borderColor: '#20B2AA', pointBackgroundColor: ['#20B2AA', '#20B2AA', '#20B2AA', '#20B2AA', '#20B2AA', '#20B2AA', '#20B2AA'], fill: false}, {label: 'x2', data: [5, 6, 10, 8, 3, 12], backgroundColor: '#00FF00', borderColor: '#00FF00', pointBackgroundColor: ['#00FF00', '#00FF00', '#00FF00', '#00FF00', '#00FF00', '#00FF00'], fill: false}], labels: [1, 2, 3, 4, 5, 6]}, type: 'bar'\n                    ,options: {legend: {display: true, position: 'bottom'}, scales: {xAxes: [{display: true, scaleLabel: {labelString: 'x-value', display: true}}], yAxes: [{display: true, scaleLabel: {labelString: 'y-value', display: true}}]}, title: {display: true, text: 'Bar plot'}}};\n                const chart_js_context = document.getElementById('chart_js').getContext('2d');\n                const chart_js_chart = new Chart(chart_js_context, chart_js_chart_config);\n                chart_js_chart.update();\n            });\n        </script>\"></iframe>\n        ",
      "text/plain": "<IPython.core.display.HTML object>"
     },
     "metadata": {},
     "output_type": "display_data"
    }
   ],
   "source": [
    "cjs_bar = cjs_plot()\n",
    "cjs_bar.add_dataset('bar', 'x1', [1, 2, 3, 4, 11, 2, 12], [1, 2, 3, 4])\n",
    "cjs_bar.add_dataset('bar', 'x2', [5, 6, 10, 8, 3, 12], [1, 2, 3, 4, 5, 6])\n",
    "cjs_bar.add_options('Bar plot', 'x-value', 'y-value',display_legend=True, size=(3, 6))\n",
    "cjs_bar.render(['x1', 'x2'],'Bar plot')"
   ]
  },
  {
   "cell_type": "code",
   "execution_count": 19,
   "metadata": {},
   "outputs": [
    {
     "data": {
      "text/html": "<div>\n<style scoped>\n    .dataframe tbody tr th:only-of-type {\n        vertical-align: middle;\n    }\n\n    .dataframe tbody tr th {\n        vertical-align: top;\n    }\n\n    .dataframe thead th {\n        text-align: right;\n    }\n</style>\n<table border=\"1\" class=\"dataframe\">\n  <thead>\n    <tr style=\"text-align: right;\">\n      <th></th>\n      <th>datetime</th>\n      <th>x1</th>\n      <th>x2</th>\n      <th>x3</th>\n      <th>x4</th>\n    </tr>\n  </thead>\n  <tbody>\n    <tr>\n      <th>0</th>\n      <td>a</td>\n      <td>34</td>\n      <td>-10</td>\n      <td>66</td>\n      <td>92</td>\n    </tr>\n    <tr>\n      <th>1</th>\n      <td>b</td>\n      <td>68</td>\n      <td>-2</td>\n      <td>-1</td>\n      <td>43</td>\n    </tr>\n    <tr>\n      <th>2</th>\n      <td>c</td>\n      <td>99</td>\n      <td>2</td>\n      <td>42</td>\n      <td>38</td>\n    </tr>\n    <tr>\n      <th>3</th>\n      <td>d</td>\n      <td>35</td>\n      <td>-4</td>\n      <td>-89</td>\n      <td>16</td>\n    </tr>\n    <tr>\n      <th>4</th>\n      <td>e</td>\n      <td>23</td>\n      <td>1</td>\n      <td>86</td>\n      <td>33</td>\n    </tr>\n  </tbody>\n</table>\n</div>",
      "text/plain": "  datetime  x1  x2  x3  x4\n0        a  34 -10  66  92\n1        b  68  -2  -1  43\n2        c  99   2  42  38\n3        d  35  -4 -89  16\n4        e  23   1  86  33"
     },
     "execution_count": 19,
     "metadata": {},
     "output_type": "execute_result"
    }
   ],
   "source": [
    "random_df=pd.read_csv('test_data.csv', sep=';')\n",
    "random_df.head()"
   ]
  },
  {
   "cell_type": "code",
   "execution_count": 24,
   "metadata": {},
   "outputs": [
    {
     "data": {
      "text/html": "\n        <iframe height='300px'  width='600px'  frameborder=\"0\" scrolling=\"no\" srcdoc=\"\n        <link href='Chart.min.css' rel='stylesheet'>\n        <script src='https://cdnjs.cloudflare.com/ajax/libs/jquery/3.4.0/jquery.min.js'></script>\n        <script src='https://cdnjs.cloudflare.com/ajax/libs/twitter-bootstrap/4.3.1/js/bootstrap.min.js'></script>\n        <script src='https://cdnjs.cloudflare.com/ajax/libs/Chart.js/2.8.0/Chart.min.js'></script>\n        <div style='height:100%%;width100%%;'>\n            <canvas id='chart_js' style='background-color:white;'></canvas>\n        </div>\n        <script>\n            $(document).ready(function () {\n                const chart_js_chart_config = {\n                data: {datasets: [{label: 'x1', data: [34, 68, 99, 35, 23, -90, 97, -35, -77, -85, -15, 40, 24, 84, 85, 32, -27, -45, -15], backgroundColor: '#20B2AA', borderColor: '#20B2AA', pointBackgroundColor: ['#20B2AA', '#20B2AA', '#20B2AA', '#20B2AA', '#20B2AA', '#20B2AA', '#20B2AA', '#20B2AA', '#20B2AA', '#20B2AA', '#20B2AA', '#20B2AA', '#20B2AA', '#20B2AA', '#20B2AA', '#20B2AA', '#20B2AA', '#20B2AA', '#20B2AA'], fill: false}, {label: 'x2', data: [-10, -2, 2, -4, 1, 0, -6, 2, -6, 5, -6, 8, -5, 0, 10, -4, 6, -3, -5], backgroundColor: '#663399', borderColor: '#663399', pointBackgroundColor: ['#663399', '#663399', '#663399', '#663399', '#663399', '#663399', '#663399', '#663399', '#663399', '#663399', '#663399', '#663399', '#663399', '#663399', '#663399', '#663399', '#663399', '#663399', '#663399'], fill: false}, {label: 'x3', data: [66, -1, 42, -89, 86, 16, -29, -50, -91, -86, 53, -2, -42, -38, 33, 55, -85, -68, -70], backgroundColor: '#FFB6C1', borderColor: '#FFB6C1', pointBackgroundColor: ['#FFB6C1', '#FFB6C1', '#FFB6C1', '#FFB6C1', '#FFB6C1', '#FFB6C1', '#FFB6C1', '#FFB6C1', '#FFB6C1', '#FFB6C1', '#FFB6C1', '#FFB6C1', '#FFB6C1', '#FFB6C1', '#FFB6C1', '#FFB6C1', '#FFB6C1', '#FFB6C1', '#FFB6C1'], fill: false}, {label: 'x4', data: [92, 43, 38, 16, 33, 39, 0, 85, 82, 17, 76, 97, 4, 59, 84, 40, 73, 88, 65], backgroundColor: '#8FBC8F', borderColor: '#8FBC8F', pointBackgroundColor: ['#8FBC8F', '#8FBC8F', '#8FBC8F', '#8FBC8F', '#8FBC8F', '#8FBC8F', '#8FBC8F', '#8FBC8F', '#8FBC8F', '#8FBC8F', '#8FBC8F', '#8FBC8F', '#8FBC8F', '#8FBC8F', '#8FBC8F', '#8FBC8F', '#8FBC8F', '#8FBC8F', '#8FBC8F'], fill: false}], labels: [0, 1, 2, 3, 4, 5, 6, 7, 8, 9, 10, 11, 12, 13, 14, 15, 16, 17, 18]}, type: 'line'\n                    ,options: {legend: {display: true, position: 'bottom'}, scales: {xAxes: [{display: true, scaleLabel: {labelString: 'x-value', display: true}}], yAxes: [{display: true, scaleLabel: {labelString: 'y-value', display: true}}]}, title: {display: true, text: 'Random df line'}}};\n                const chart_js_context = document.getElementById('chart_js').getContext('2d');\n                const chart_js_chart = new Chart(chart_js_context, chart_js_chart_config);\n                chart_js_chart.update();\n            });\n        </script>\"></iframe>\n        ",
      "text/plain": "<IPython.core.display.HTML object>"
     },
     "metadata": {},
     "output_type": "display_data"
    }
   ],
   "source": [
    "cjs_line = cjs_plot()\n",
    "cjs_line.add_dataset('line', 'x1', random_df['x1'].to_list(), random_df.index.to_list())\n",
    "cjs_line.add_dataset('line', 'x2', random_df['x2'].to_list(), random_df.index.to_list())\n",
    "cjs_line.add_dataset('line', 'x3', random_df['x3'].to_list(), random_df.index.to_list())\n",
    "cjs_line.add_dataset('line', 'x4', random_df['x4'].to_list(), random_df.index.to_list())\n",
    "cjs_line.add_options('Random df line', 'x-value', 'y-value',display_legend=True, size=(3, 6))\n",
    "cjs_line.render(['x1', 'x2', 'x3', 'x4'],'Random df line')"
   ]
  },
  {
   "cell_type": "code",
   "execution_count": 26,
   "metadata": {},
   "outputs": [
    {
     "data": {
      "text/html": "\n        <iframe height='400px'  width='700px'  frameborder=\"0\" scrolling=\"no\" srcdoc=\"\n        <link href='Chart.min.css' rel='stylesheet'>\n        <script src='https://cdnjs.cloudflare.com/ajax/libs/jquery/3.4.0/jquery.min.js'></script>\n        <script src='https://cdnjs.cloudflare.com/ajax/libs/twitter-bootstrap/4.3.1/js/bootstrap.min.js'></script>\n        <script src='https://cdnjs.cloudflare.com/ajax/libs/Chart.js/2.8.0/Chart.min.js'></script>\n        <div style='height:100%%;width100%%;'>\n            <canvas id='chart_js' style='background-color:white;'></canvas>\n        </div>\n        <script>\n            $(document).ready(function () {\n                const chart_js_chart_config = {\n                data: {datasets: [{label: 'x1', data: [34, 68, 99, 35, 23, -90, 97, -35, -77, -85, -15, 40, 24, 84, 85, 32, -27, -45, -15], backgroundColor: '#FFE4E1', borderColor: '#FFE4E1', pointBackgroundColor: ['#FFE4E1', '#FFE4E1', '#FFE4E1', '#FFE4E1', '#FFE4E1', '#FFE4E1', '#FFE4E1', '#FFE4E1', '#FFE4E1', '#FFE4E1', '#FFE4E1', '#FFE4E1', '#FFE4E1', '#FFE4E1', '#FFE4E1', '#FFE4E1', '#FFE4E1', '#FFE4E1', '#FFE4E1'], fill: false}, {label: 'x2', data: [-10, -2, 2, -4, 1, 0, -6, 2, -6, 5, -6, 8, -5, 0, 10, -4, 6, -3, -5], backgroundColor: '#FFFFFF', borderColor: '#FFFFFF', pointBackgroundColor: ['#FFFFFF', '#FFFFFF', '#FFFFFF', '#FFFFFF', '#FFFFFF', '#FFFFFF', '#FFFFFF', '#FFFFFF', '#FFFFFF', '#FFFFFF', '#FFFFFF', '#FFFFFF', '#FFFFFF', '#FFFFFF', '#FFFFFF', '#FFFFFF', '#FFFFFF', '#FFFFFF', '#FFFFFF'], fill: false}, {label: 'x3', data: [66, -1, 42, -89, 86, 16, -29, -50, -91, -86, 53, -2, -42, -38, 33, 55, -85, -68, -70], backgroundColor: '#800080', borderColor: '#800080', pointBackgroundColor: ['#800080', '#800080', '#800080', '#800080', '#800080', '#800080', '#800080', '#800080', '#800080', '#800080', '#800080', '#800080', '#800080', '#800080', '#800080', '#800080', '#800080', '#800080', '#800080'], fill: false}, {label: 'x4', data: [92, 43, 38, 16, 33, 39, 0, 85, 82, 17, 76, 97, 4, 59, 84, 40, 73, 88, 65], backgroundColor: '#DB7093', borderColor: '#DB7093', pointBackgroundColor: ['#DB7093', '#DB7093', '#DB7093', '#DB7093', '#DB7093', '#DB7093', '#DB7093', '#DB7093', '#DB7093', '#DB7093', '#DB7093', '#DB7093', '#DB7093', '#DB7093', '#DB7093', '#DB7093', '#DB7093', '#DB7093', '#DB7093'], fill: false}], labels: [0, 1, 2, 3, 4, 5, 6, 7, 8, 9, 10, 11, 12, 13, 14, 15, 16, 17, 18]}, type: 'bar'\n                    ,options: {legend: {display: true, position: 'bottom'}, scales: {xAxes: [{display: true, scaleLabel: {labelString: 'x-value', display: true}}], yAxes: [{display: true, scaleLabel: {labelString: 'y-value', display: true}}]}, title: {display: true, text: 'Random df bar'}}};\n                const chart_js_context = document.getElementById('chart_js').getContext('2d');\n                const chart_js_chart = new Chart(chart_js_context, chart_js_chart_config);\n                chart_js_chart.update();\n            });\n        </script>\"></iframe>\n        ",
      "text/plain": "<IPython.core.display.HTML object>"
     },
     "metadata": {},
     "output_type": "display_data"
    }
   ],
   "source": [
    "cjs_bar = cjs_plot()\n",
    "cjs_bar.add_dataset('bar', 'x1', random_df['x1'].to_list(), random_df.index.to_list())\n",
    "cjs_bar.add_dataset('bar', 'x2', random_df['x2'].to_list(), random_df.index.to_list())\n",
    "cjs_bar.add_dataset('bar', 'x3', random_df['x3'].to_list(), random_df.index.to_list())\n",
    "cjs_bar.add_dataset('bar', 'x4', random_df['x4'].to_list(), random_df.index.to_list())\n",
    "cjs_bar.add_options('Random df bar', 'x-value', 'y-value',display_legend=True, size=(4, 7))\n",
    "cjs_bar.render(['x1', 'x2', 'x3', 'x4'],'Random df bar')"
   ]
  },
  {
   "cell_type": "code",
   "execution_count": 32,
   "metadata": {},
   "outputs": [
    {
     "data": {
      "text/html": "\n        <iframe height='600px'  width='800px'  frameborder=\"0\" scrolling=\"no\" srcdoc=\"\n        <link href='Chart.min.css' rel='stylesheet'>\n        <script src='https://cdnjs.cloudflare.com/ajax/libs/jquery/3.4.0/jquery.min.js'></script>\n        <script src='https://cdnjs.cloudflare.com/ajax/libs/twitter-bootstrap/4.3.1/js/bootstrap.min.js'></script>\n        <script src='https://cdnjs.cloudflare.com/ajax/libs/Chart.js/2.8.0/Chart.min.js'></script>\n        <div style='height:100%%;width100%%;'>\n            <canvas id='chart_js' style='background-color:white;'></canvas>\n        </div>\n        <script>\n            $(document).ready(function () {\n                const chart_js_chart_config = {\n                data: {datasets: [{label: 'x1', data: [34, 68, 99, 35, 23, -90, 97, -35, -77, -85, -15, 40, 24, 84, 85, 32, -27, -45, -15], backgroundColor: ['#9370DB', '#F5FFFA', '#F08080', '#00FF00', '#FF6347', '#FA8072', '#F0F8FF', '#A9A9A9', '#FF00FF', '#FFD700', '#48D1CC', '#9ACD32', '#F0FFF0', '#F0E68C', '#663399', '#0000FF', '#FFA07A', '#FF00FF', '#F0F8FF'], borderColor: ['#9370DB', '#F5FFFA', '#F08080', '#00FF00', '#FF6347', '#FA8072', '#F0F8FF', '#A9A9A9', '#FF00FF', '#FFD700', '#48D1CC', '#9ACD32', '#F0FFF0', '#F0E68C', '#663399', '#0000FF', '#FFA07A', '#FF00FF', '#F0F8FF'], pointBackgroundColor: ['#2F4F4F', '#2F4F4F', '#2F4F4F', '#2F4F4F', '#2F4F4F', '#2F4F4F', '#2F4F4F', '#2F4F4F', '#2F4F4F', '#2F4F4F', '#2F4F4F', '#2F4F4F', '#2F4F4F', '#2F4F4F', '#2F4F4F', '#2F4F4F', '#2F4F4F', '#2F4F4F', '#2F4F4F'], fill: true}], labels: [0, 1, 2, 3, 4, 5, 6, 7, 8, 9, 10, 11, 12, 13, 14, 15, 16, 17, 18]}, type: 'pie'\n                    ,options: {legend: {display: true, position: 'bottom'}, scales: {xAxes: [{display: false, scaleLabel: {labelString: 'x-value', display: false}}], yAxes: [{display: false, scaleLabel: {labelString: 'y-value', display: false}}]}, title: {display: true, text: 'Random df pie'}}};\n                const chart_js_context = document.getElementById('chart_js').getContext('2d');\n                const chart_js_chart = new Chart(chart_js_context, chart_js_chart_config);\n                chart_js_chart.update();\n            });\n        </script>\"></iframe>\n        ",
      "text/plain": "<IPython.core.display.HTML object>"
     },
     "metadata": {},
     "output_type": "display_data"
    }
   ],
   "source": [
    "cjs_pie = cjs_plot()\n",
    "cjs_pie.add_dataset('pie', 'x1', random_df['x1'].to_list(), random_df.index.to_list())\n",
    "cjs_pie.add_options('Random df pie', 'x-value', 'y-value',display_legend=False, size=(6,8))\n",
    "cjs_pie.render(['x1'],'Random df pie')"
   ]
  },
  {
   "cell_type": "code",
   "execution_count": null,
   "metadata": {},
   "outputs": [],
   "source": []
  }
 ]
}