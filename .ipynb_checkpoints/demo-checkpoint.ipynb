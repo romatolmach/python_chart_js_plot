{
 "cells": [
  {
   "cell_type": "code",
   "execution_count": 1,
   "metadata": {},
   "outputs": [],
   "source": [
    "from chart_js import cjs_plot\n",
    "import pandas as pd"
   ]
  },
  {
   "cell_type": "code",
   "execution_count": 2,
   "metadata": {},
   "outputs": [
    {
     "data": {
      "text/html": [
       "\n",
       "        <iframe height='300px'  width='600px'  frameborder=\"0\" scrolling=\"no\" srcdoc=\"\n",
       "        <link href='Chart.min.css' rel='stylesheet'>\n",
       "        <script src='https://cdnjs.cloudflare.com/ajax/libs/jquery/3.4.0/jquery.min.js'></script>\n",
       "        <script src='https://cdnjs.cloudflare.com/ajax/libs/twitter-bootstrap/4.3.1/js/bootstrap.min.js'></script>\n",
       "        <script src='https://cdnjs.cloudflare.com/ajax/libs/Chart.js/2.8.0/Chart.min.js'></script>\n",
       "        <div style='height:100%%;width100%%;'>\n",
       "            <canvas id='chart_js' style='background-color:white;'></canvas>\n",
       "        </div>\n",
       "        <script>\n",
       "            $(document).ready(function () {\n",
       "                const chart_js_chart_config = {\n",
       "                data: {datasets: [{label: 'x1', data: [1, 2, 3, 4, 11, 2, 12], backgroundColor: '#ADFF2F', borderColor: '#ADFF2F', pointBackgroundColor: ['#ADFF2F', '#ADFF2F', '#ADFF2F', '#ADFF2F', '#ADFF2F', '#ADFF2F', '#ADFF2F'], fill: false}, {label: 'x2', data: [5, 6, 10, 8, 3, 12], backgroundColor: '#00FFFF', borderColor: '#00FFFF', pointBackgroundColor: ['#00FFFF', '#00FFFF', '#00FFFF', '#00FFFF', '#00FFFF', '#00FFFF'], fill: false}], labels: [1, 2, 3, 4, 5, 6]}, type: 'line'\n",
       "                    ,options: {legend: {display: true, position: 'bottom'}, scales: {xAxes: [{display: true, scaleLabel: {labelString: 'x-value', display: true}}], yAxes: [{display: true, scaleLabel: {labelString: 'y-value', display: true}}]}, title: {display: true, text: 'Line plot'}}};\n",
       "                const chart_js_context = document.getElementById('chart_js').getContext('2d');\n",
       "                const chart_js_chart = new Chart(chart_js_context, chart_js_chart_config);\n",
       "                chart_js_chart.update();\n",
       "            });\n",
       "        </script>\"></iframe>\n",
       "        "
      ],
      "text/plain": [
       "<IPython.core.display.HTML object>"
      ]
     },
     "metadata": {},
     "output_type": "display_data"
    }
   ],
   "source": [
    "cjs_line = cjs_plot()\n",
    "cjs_line.add_dataset('line', 'x1', [1, 2, 3, 4, 11, 2, 12], [1, 2, 3, 4])\n",
    "cjs_line.add_dataset('line', 'x2', [5, 6, 10, 8, 3, 12], [1, 2, 3, 4, 5, 6])\n",
    "cjs_line.add_options('Line plot', 'x-value', 'y-value',display_legend=True, size=(3, 6))\n",
    "cjs_line.render(['x1', 'x2'],'Line plot')"
   ]
  },
  {
   "cell_type": "code",
   "execution_count": 3,
   "metadata": {},
   "outputs": [
    {
     "data": {
      "text/html": [
       "\n",
       "        <iframe height='300px'  width='600px'  frameborder=\"0\" scrolling=\"no\" srcdoc=\"\n",
       "        <link href='Chart.min.css' rel='stylesheet'>\n",
       "        <script src='https://cdnjs.cloudflare.com/ajax/libs/jquery/3.4.0/jquery.min.js'></script>\n",
       "        <script src='https://cdnjs.cloudflare.com/ajax/libs/twitter-bootstrap/4.3.1/js/bootstrap.min.js'></script>\n",
       "        <script src='https://cdnjs.cloudflare.com/ajax/libs/Chart.js/2.8.0/Chart.min.js'></script>\n",
       "        <div style='height:100%%;width100%%;'>\n",
       "            <canvas id='chart_js' style='background-color:white;'></canvas>\n",
       "        </div>\n",
       "        <script>\n",
       "            $(document).ready(function () {\n",
       "                const chart_js_chart_config = {\n",
       "                data: {datasets: [{label: 'x1', data: [1, 2, 3, 4, 11, 2, 12], backgroundColor: '#FFE4E1', borderColor: '#FFE4E1', pointBackgroundColor: ['#FFE4E1', '#FFE4E1', '#FFE4E1', '#FFE4E1', '#FFE4E1', '#FFE4E1', '#FFE4E1'], fill: false}, {label: 'x2', data: [5, 6, 10, 8, 3, 12], backgroundColor: '#0000FF', borderColor: '#0000FF', pointBackgroundColor: ['#0000FF', '#0000FF', '#0000FF', '#0000FF', '#0000FF', '#0000FF'], fill: false}], labels: [1, 2, 3, 4, 5, 6]}, type: 'bar'\n",
       "                    ,options: {legend: {display: true, position: 'bottom'}, scales: {xAxes: [{display: true, scaleLabel: {labelString: 'x-value', display: true}}], yAxes: [{display: true, scaleLabel: {labelString: 'y-value', display: true}}]}, title: {display: true, text: 'Bar plot'}}};\n",
       "                const chart_js_context = document.getElementById('chart_js').getContext('2d');\n",
       "                const chart_js_chart = new Chart(chart_js_context, chart_js_chart_config);\n",
       "                chart_js_chart.update();\n",
       "            });\n",
       "        </script>\"></iframe>\n",
       "        "
      ],
      "text/plain": [
       "<IPython.core.display.HTML object>"
      ]
     },
     "metadata": {},
     "output_type": "display_data"
    }
   ],
   "source": [
    "cjs_bar = cjs_plot()\n",
    "cjs_bar.add_dataset('bar', 'x1', [1, 2, 3, 4, 11, 2, 12], [1, 2, 3, 4])\n",
    "cjs_bar.add_dataset('bar', 'x2', [5, 6, 10, 8, 3, 12], [1, 2, 3, 4, 5, 6])\n",
    "cjs_bar.add_options('Bar plot', 'x-value', 'y-value',display_legend=True, size=(3, 6))\n",
    "cjs_bar.render(['x1', 'x2'],'Bar plot')"
   ]
  },
  {
   "cell_type": "code",
   "execution_count": 4,
   "metadata": {},
   "outputs": [
    {
     "data": {
      "text/html": [
       "<div>\n",
       "<style scoped>\n",
       "    .dataframe tbody tr th:only-of-type {\n",
       "        vertical-align: middle;\n",
       "    }\n",
       "\n",
       "    .dataframe tbody tr th {\n",
       "        vertical-align: top;\n",
       "    }\n",
       "\n",
       "    .dataframe thead th {\n",
       "        text-align: right;\n",
       "    }\n",
       "</style>\n",
       "<table border=\"1\" class=\"dataframe\">\n",
       "  <thead>\n",
       "    <tr style=\"text-align: right;\">\n",
       "      <th></th>\n",
       "      <th>datetime</th>\n",
       "      <th>x1</th>\n",
       "      <th>x2</th>\n",
       "      <th>x3</th>\n",
       "      <th>x4</th>\n",
       "    </tr>\n",
       "  </thead>\n",
       "  <tbody>\n",
       "    <tr>\n",
       "      <th>0</th>\n",
       "      <td>a</td>\n",
       "      <td>34</td>\n",
       "      <td>-10</td>\n",
       "      <td>66</td>\n",
       "      <td>92</td>\n",
       "    </tr>\n",
       "    <tr>\n",
       "      <th>1</th>\n",
       "      <td>b</td>\n",
       "      <td>68</td>\n",
       "      <td>-2</td>\n",
       "      <td>-1</td>\n",
       "      <td>43</td>\n",
       "    </tr>\n",
       "    <tr>\n",
       "      <th>2</th>\n",
       "      <td>c</td>\n",
       "      <td>99</td>\n",
       "      <td>2</td>\n",
       "      <td>42</td>\n",
       "      <td>38</td>\n",
       "    </tr>\n",
       "    <tr>\n",
       "      <th>3</th>\n",
       "      <td>d</td>\n",
       "      <td>35</td>\n",
       "      <td>-4</td>\n",
       "      <td>-89</td>\n",
       "      <td>16</td>\n",
       "    </tr>\n",
       "    <tr>\n",
       "      <th>4</th>\n",
       "      <td>e</td>\n",
       "      <td>23</td>\n",
       "      <td>1</td>\n",
       "      <td>86</td>\n",
       "      <td>33</td>\n",
       "    </tr>\n",
       "  </tbody>\n",
       "</table>\n",
       "</div>"
      ],
      "text/plain": [
       "  datetime  x1  x2  x3  x4\n",
       "0        a  34 -10  66  92\n",
       "1        b  68  -2  -1  43\n",
       "2        c  99   2  42  38\n",
       "3        d  35  -4 -89  16\n",
       "4        e  23   1  86  33"
      ]
     },
     "execution_count": 4,
     "metadata": {},
     "output_type": "execute_result"
    }
   ],
   "source": [
    "random_df=pd.read_csv('test_data.csv', sep=';')\n",
    "random_df.head()"
   ]
  },
  {
   "cell_type": "code",
   "execution_count": 9,
   "metadata": {},
   "outputs": [
    {
     "data": {
      "text/html": [
       "\n",
       "        <iframe height='300px'  width='600px'  frameborder=\"0\" scrolling=\"no\" srcdoc=\"\n",
       "        <link href='Chart.min.css' rel='stylesheet'>\n",
       "        <script src='https://cdnjs.cloudflare.com/ajax/libs/jquery/3.4.0/jquery.min.js'></script>\n",
       "        <script src='https://cdnjs.cloudflare.com/ajax/libs/twitter-bootstrap/4.3.1/js/bootstrap.min.js'></script>\n",
       "        <script src='https://cdnjs.cloudflare.com/ajax/libs/Chart.js/2.8.0/Chart.min.js'></script>\n",
       "        <div style='height:100%%;width100%%;'>\n",
       "            <canvas id='chart_js' style='background-color:white;'></canvas>\n",
       "        </div>\n",
       "        <script>\n",
       "            $(document).ready(function () {\n",
       "                const chart_js_chart_config = {\n",
       "                data: {datasets: [{label: 'x1', data: [34, 68, 99, 35, 23, -90, 97, -35, -77, -85, -15, 40, 24, 84, 85, 32, -27, -45, -15], backgroundColor: '#2F4F4F', borderColor: '#2F4F4F', pointBackgroundColor: ['#2F4F4F', '#2F4F4F', '#2F4F4F', '#2F4F4F', '#2F4F4F', '#2F4F4F', '#2F4F4F', '#2F4F4F', '#2F4F4F', '#2F4F4F', '#2F4F4F', '#2F4F4F', '#2F4F4F', '#2F4F4F', '#2F4F4F', '#2F4F4F', '#2F4F4F', '#2F4F4F', '#2F4F4F'], fill: false}, {label: 'x2', data: [-10, -2, 2, -4, 1, 0, -6, 2, -6, 5, -6, 8, -5, 0, 10, -4, 6, -3, -5], backgroundColor: '#191970', borderColor: '#191970', pointBackgroundColor: ['#191970', '#191970', '#191970', '#191970', '#191970', '#191970', '#191970', '#191970', '#191970', '#191970', '#191970', '#191970', '#191970', '#191970', '#191970', '#191970', '#191970', '#191970', '#191970'], fill: false}, {label: 'x3', data: [66, -1, 42, -89, 86, 16, -29, -50, -91, -86, 53, -2, -42, -38, 33, 55, -85, -68, -70], backgroundColor: '#DEB887', borderColor: '#DEB887', pointBackgroundColor: ['#DEB887', '#DEB887', '#DEB887', '#DEB887', '#DEB887', '#DEB887', '#DEB887', '#DEB887', '#DEB887', '#DEB887', '#DEB887', '#DEB887', '#DEB887', '#DEB887', '#DEB887', '#DEB887', '#DEB887', '#DEB887', '#DEB887'], fill: false}, {label: 'x4', data: [92, 43, 38, 16, 33, 39, 0, 85, 82, 17, 76, 97, 4, 59, 84, 40, 73, 88, 65], backgroundColor: '#FFE4E1', borderColor: '#FFE4E1', pointBackgroundColor: ['#FFE4E1', '#FFE4E1', '#FFE4E1', '#FFE4E1', '#FFE4E1', '#FFE4E1', '#FFE4E1', '#FFE4E1', '#FFE4E1', '#FFE4E1', '#FFE4E1', '#FFE4E1', '#FFE4E1', '#FFE4E1', '#FFE4E1', '#FFE4E1', '#FFE4E1', '#FFE4E1', '#FFE4E1'], fill: false}], labels: [0, 1, 2, 3, 4, 5, 6, 7, 8, 9, 10, 11, 12, 13, 14, 15, 16, 17, 18]}, type: 'line'\n",
       "                    ,options: {legend: {display: true, position: 'bottom'}, scales: {xAxes: [{display: true, scaleLabel: {labelString: 'x-value', display: true}}], yAxes: [{display: true, scaleLabel: {labelString: 'y-value', display: true}}]}, title: {display: true, text: 'Random df line'}}};\n",
       "                const chart_js_context = document.getElementById('chart_js').getContext('2d');\n",
       "                const chart_js_chart = new Chart(chart_js_context, chart_js_chart_config);\n",
       "                chart_js_chart.update();\n",
       "            });\n",
       "        </script>\"></iframe>\n",
       "        "
      ],
      "text/plain": [
       "<IPython.core.display.HTML object>"
      ]
     },
     "metadata": {},
     "output_type": "display_data"
    }
   ],
   "source": [
    "cjs_line = cjs_plot()\n",
    "cjs_line.add_dataset('line', 'x1', random_df['x1'].to_list(), random_df.index.to_list())\n",
    "cjs_line.add_dataset('line', 'x2', random_df['x2'].to_list(), random_df.index.to_list())\n",
    "cjs_line.add_dataset('line', 'x3', random_df['x3'].to_list(), random_df.index.to_list())\n",
    "cjs_line.add_dataset('line', 'x4', random_df['x4'].to_list(), random_df.index.to_list())\n",
    "cjs_line.add_options('Random df line', 'x-value', 'y-value',display_legend=True, size=(3, 6))\n",
    "cjs_line.render(['x1', 'x2', 'x3', 'x4'],'Random df line')"
   ]
  },
  {
   "cell_type": "code",
   "execution_count": 10,
   "metadata": {},
   "outputs": [
    {
     "data": {
      "text/html": [
       "\n",
       "        <iframe height='400px'  width='700px'  frameborder=\"0\" scrolling=\"no\" srcdoc=\"\n",
       "        <link href='Chart.min.css' rel='stylesheet'>\n",
       "        <script src='https://cdnjs.cloudflare.com/ajax/libs/jquery/3.4.0/jquery.min.js'></script>\n",
       "        <script src='https://cdnjs.cloudflare.com/ajax/libs/twitter-bootstrap/4.3.1/js/bootstrap.min.js'></script>\n",
       "        <script src='https://cdnjs.cloudflare.com/ajax/libs/Chart.js/2.8.0/Chart.min.js'></script>\n",
       "        <div style='height:100%%;width100%%;'>\n",
       "            <canvas id='chart_js' style='background-color:white;'></canvas>\n",
       "        </div>\n",
       "        <script>\n",
       "            $(document).ready(function () {\n",
       "                const chart_js_chart_config = {\n",
       "                data: {datasets: [{label: 'x1', data: [34, 68, 99, 35, 23, -90, 97, -35, -77, -85, -15, 40, 24, 84, 85, 32, -27, -45, -15], backgroundColor: '#808080', borderColor: '#808080', pointBackgroundColor: ['#808080', '#808080', '#808080', '#808080', '#808080', '#808080', '#808080', '#808080', '#808080', '#808080', '#808080', '#808080', '#808080', '#808080', '#808080', '#808080', '#808080', '#808080', '#808080'], fill: false}, {label: 'x2', data: [-10, -2, 2, -4, 1, 0, -6, 2, -6, 5, -6, 8, -5, 0, 10, -4, 6, -3, -5], backgroundColor: '#FFF5EE', borderColor: '#FFF5EE', pointBackgroundColor: ['#FFF5EE', '#FFF5EE', '#FFF5EE', '#FFF5EE', '#FFF5EE', '#FFF5EE', '#FFF5EE', '#FFF5EE', '#FFF5EE', '#FFF5EE', '#FFF5EE', '#FFF5EE', '#FFF5EE', '#FFF5EE', '#FFF5EE', '#FFF5EE', '#FFF5EE', '#FFF5EE', '#FFF5EE'], fill: false}, {label: 'x3', data: [66, -1, 42, -89, 86, 16, -29, -50, -91, -86, 53, -2, -42, -38, 33, 55, -85, -68, -70], backgroundColor: '#90EE90', borderColor: '#90EE90', pointBackgroundColor: ['#90EE90', '#90EE90', '#90EE90', '#90EE90', '#90EE90', '#90EE90', '#90EE90', '#90EE90', '#90EE90', '#90EE90', '#90EE90', '#90EE90', '#90EE90', '#90EE90', '#90EE90', '#90EE90', '#90EE90', '#90EE90', '#90EE90'], fill: false}, {label: 'x4', data: [92, 43, 38, 16, 33, 39, 0, 85, 82, 17, 76, 97, 4, 59, 84, 40, 73, 88, 65], backgroundColor: '#B0C4DE', borderColor: '#B0C4DE', pointBackgroundColor: ['#B0C4DE', '#B0C4DE', '#B0C4DE', '#B0C4DE', '#B0C4DE', '#B0C4DE', '#B0C4DE', '#B0C4DE', '#B0C4DE', '#B0C4DE', '#B0C4DE', '#B0C4DE', '#B0C4DE', '#B0C4DE', '#B0C4DE', '#B0C4DE', '#B0C4DE', '#B0C4DE', '#B0C4DE'], fill: false}], labels: [0, 1, 2, 3, 4, 5, 6, 7, 8, 9, 10, 11, 12, 13, 14, 15, 16, 17, 18]}, type: 'bar'\n",
       "                    ,options: {legend: {display: true, position: 'bottom'}, scales: {xAxes: [{display: true, scaleLabel: {labelString: 'x-value', display: true}}], yAxes: [{display: true, scaleLabel: {labelString: 'y-value', display: true}}]}, title: {display: true, text: 'Random df bar'}}};\n",
       "                const chart_js_context = document.getElementById('chart_js').getContext('2d');\n",
       "                const chart_js_chart = new Chart(chart_js_context, chart_js_chart_config);\n",
       "                chart_js_chart.update();\n",
       "            });\n",
       "        </script>\"></iframe>\n",
       "        "
      ],
      "text/plain": [
       "<IPython.core.display.HTML object>"
      ]
     },
     "metadata": {},
     "output_type": "display_data"
    }
   ],
   "source": [
    "cjs_bar = cjs_plot()\n",
    "cjs_bar.add_dataset('bar', 'x1', random_df['x1'].to_list(), random_df.index.to_list())\n",
    "cjs_bar.add_dataset('bar', 'x2', random_df['x2'].to_list(), random_df.index.to_list())\n",
    "cjs_bar.add_dataset('bar', 'x3', random_df['x3'].to_list(), random_df.index.to_list())\n",
    "cjs_bar.add_dataset('bar', 'x4', random_df['x4'].to_list(), random_df.index.to_list())\n",
    "cjs_bar.add_options('Random df bar', 'x-value', 'y-value',display_legend=True, size=(4, 7))\n",
    "cjs_bar.render(['x1', 'x2', 'x3', 'x4'],'Random df bar')"
   ]
  },
  {
   "cell_type": "code",
   "execution_count": 11,
   "metadata": {},
   "outputs": [
    {
     "data": {
      "text/html": [
       "\n",
       "        <iframe height='600px'  width='800px'  frameborder=\"0\" scrolling=\"no\" srcdoc=\"\n",
       "        <link href='Chart.min.css' rel='stylesheet'>\n",
       "        <script src='https://cdnjs.cloudflare.com/ajax/libs/jquery/3.4.0/jquery.min.js'></script>\n",
       "        <script src='https://cdnjs.cloudflare.com/ajax/libs/twitter-bootstrap/4.3.1/js/bootstrap.min.js'></script>\n",
       "        <script src='https://cdnjs.cloudflare.com/ajax/libs/Chart.js/2.8.0/Chart.min.js'></script>\n",
       "        <div style='height:100%%;width100%%;'>\n",
       "            <canvas id='chart_js' style='background-color:white;'></canvas>\n",
       "        </div>\n",
       "        <script>\n",
       "            $(document).ready(function () {\n",
       "                const chart_js_chart_config = {\n",
       "                data: {datasets: [{label: 'x1', data: [34, 68, 99, 35, 23, -90, 97, -35, -77, -85, -15, 40, 24, 84, 85, 32, -27, -45, -15], backgroundColor: ['#FF69B4', '#C71585', '#FFFF00', '#FFB6C1', '#7CFC00', '#F08080', '#9400D3', '#E0FFFF', '#9ACD32', '#808000', '#DAA520', '#663399', '#FFF0F5', '#B8860B', '#0000CD', '#BC8F8F', '#FFEFD5', '#EEE8AA', '#FF0000'], borderColor: ['#FF69B4', '#C71585', '#FFFF00', '#FFB6C1', '#7CFC00', '#F08080', '#9400D3', '#E0FFFF', '#9ACD32', '#808000', '#DAA520', '#663399', '#FFF0F5', '#B8860B', '#0000CD', '#BC8F8F', '#FFEFD5', '#EEE8AA', '#FF0000'], pointBackgroundColor: ['#00FF00', '#00FF00', '#00FF00', '#00FF00', '#00FF00', '#00FF00', '#00FF00', '#00FF00', '#00FF00', '#00FF00', '#00FF00', '#00FF00', '#00FF00', '#00FF00', '#00FF00', '#00FF00', '#00FF00', '#00FF00', '#00FF00'], fill: true}], labels: [0, 1, 2, 3, 4, 5, 6, 7, 8, 9, 10, 11, 12, 13, 14, 15, 16, 17, 18]}, type: 'pie'\n",
       "                    ,options: {legend: {display: true, position: 'bottom'}, scales: {xAxes: [{display: false, scaleLabel: {labelString: 'x-value', display: false}}], yAxes: [{display: false, scaleLabel: {labelString: 'y-value', display: false}}]}, title: {display: true, text: 'Random df pie'}}};\n",
       "                const chart_js_context = document.getElementById('chart_js').getContext('2d');\n",
       "                const chart_js_chart = new Chart(chart_js_context, chart_js_chart_config);\n",
       "                chart_js_chart.update();\n",
       "            });\n",
       "        </script>\"></iframe>\n",
       "        "
      ],
      "text/plain": [
       "<IPython.core.display.HTML object>"
      ]
     },
     "metadata": {},
     "output_type": "display_data"
    }
   ],
   "source": [
    "cjs_pie = cjs_plot()\n",
    "cjs_pie.add_dataset('pie', 'x1', random_df['x1'].to_list(), random_df.index.to_list())\n",
    "cjs_pie.add_options('Random df pie', 'x-value', 'y-value',display_legend=False, size=(6,8))\n",
    "cjs_pie.render(['x1'],'Random df pie')"
   ]
  },
  {
   "cell_type": "code",
   "execution_count": null,
   "metadata": {},
   "outputs": [],
   "source": []
  }
 ],
 "metadata": {
  "file_extension": ".py",
  "kernelspec": {
   "display_name": "Python 3",
   "language": "python",
   "name": "python3"
  },
  "language_info": {
   "codemirror_mode": {
    "name": "ipython",
    "version": 3
   },
   "file_extension": ".py",
   "mimetype": "text/x-python",
   "name": "python",
   "nbconvert_exporter": "python",
   "pygments_lexer": "ipython3",
   "version": "3.6.8"
  },
  "mimetype": "text/x-python",
  "name": "python",
  "npconvert_exporter": "python",
  "pygments_lexer": "ipython3",
  "toc": {
   "base_numbering": 1,
   "nav_menu": {},
   "number_sections": false,
   "sideBar": true,
   "skip_h1_title": false,
   "title_cell": "Table of Contents",
   "title_sidebar": "Contents",
   "toc_cell": false,
   "toc_position": {},
   "toc_section_display": true,
   "toc_window_display": false
  },
  "version": 3
 },
 "nbformat": 4,
 "nbformat_minor": 2
}
